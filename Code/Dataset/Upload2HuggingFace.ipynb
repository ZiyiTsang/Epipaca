{
 "cells": [
  {
   "metadata": {
    "ExecuteTime": {
     "end_time": "2024-05-25T15:09:45.057322Z",
     "start_time": "2024-05-25T15:09:45.046248Z"
    }
   },
   "cell_type": "code",
   "source": [
    "import os\n",
    "import pandas as pd"
   ],
   "id": "ef1c5928d8ef2c3b",
   "outputs": [],
   "execution_count": 3
  },
  {
   "metadata": {
    "ExecuteTime": {
     "end_time": "2024-05-25T15:09:45.505762Z",
     "start_time": "2024-05-25T15:09:45.492235Z"
    }
   },
   "cell_type": "code",
   "source": [
    "project_path = os.path.abspath(os.path.relpath('../../../', os.getcwd()))\n",
    "data_path = os.path.join(project_path, 'FT4LLM/Data')"
   ],
   "id": "initial_id",
   "outputs": [],
   "execution_count": 4
  },
  {
   "metadata": {
    "ExecuteTime": {
     "end_time": "2024-05-25T15:10:29.035961Z",
     "start_time": "2024-05-25T15:10:29.003952Z"
    }
   },
   "cell_type": "code",
   "source": [
    "machine_data_en = pd.read_json(data_path + \"/machine_instructions.json\")\n",
    "machine_data_zh=pd.read_json(data_path + \"/machine_instructions_zh.json\")"
   ],
   "id": "58a4f7769486e3d1",
   "outputs": [],
   "execution_count": 6
  },
  {
   "metadata": {
    "ExecuteTime": {
     "end_time": "2024-05-25T15:12:13.603092Z",
     "start_time": "2024-05-25T15:12:13.583102Z"
    }
   },
   "cell_type": "code",
   "source": [
    "machine_data_en.columns=['Instruction',\"Input\",'Output']\n",
    "machine_data_zh.columns=['Instruction',\"Input\",'Output']"
   ],
   "id": "ce5c6ea196b59558",
   "outputs": [],
   "execution_count": 9
  },
  {
   "metadata": {
    "ExecuteTime": {
     "end_time": "2024-05-25T15:19:16.221298Z",
     "start_time": "2024-05-25T15:19:16.200298Z"
    }
   },
   "cell_type": "code",
   "source": [
    "machine_data=pd.concat([machine_data_en,machine_data_zh])\n",
    "machine_data.reset_index(inplace=True, drop=True)\n",
    "machine_data.drop_duplicates(subset=[\"Instruction\"])"
   ],
   "id": "40d0e2292c26e42a",
   "outputs": [
    {
     "data": {
      "text/plain": [
       "                                            Instruction Input  \\\n",
       "0     What is the primary mechanism of action of thi...         \n",
       "1     How does a ketogenic diet affect seizure contr...         \n",
       "2     What are the common warning signs of a seizure...         \n",
       "3     How can a patient with epilepsy use mindfulnes...         \n",
       "4     How can a healthcare provider determine if a p...         \n",
       "...                                                 ...   ...   \n",
       "2025         解释一下这种癫痫类型——全面性强直-阵挛发作（Tonic-Clonic）的临床表现。         \n",
       "2026                                   描述如何通过饮食调整来管理癫痫。         \n",
       "2027                  解释在紧急情况下如何使用这种急救设备——自动体外除颤器（AED）。         \n",
       "2028                                   解释这种药物对抗惊厥的作用机制。  苯妥英钠   \n",
       "2029                             对于药物治疗无效的患者，推荐哪种非药物疗法？         \n",
       "\n",
       "                                                 Output  \n",
       "0     The primary mechanism of action of this antiep...  \n",
       "1     A ketogenic diet has been shown to be effectiv...  \n",
       "2     Common warning signs of a seizure episode incl...  \n",
       "3     Patients with epilepsy can use mindfulness med...  \n",
       "4     A healthcare provider can determine effectiven...  \n",
       "...                                                 ...  \n",
       "2025  全面性强直-阵挛发作（TCC）时，患者会经历突然的肌肉僵硬（强直期），然后全身剧烈抽动和意识...  \n",
       "2026  对于某些癫痫患者，如癫痫性饥饿症或酮症酸中毒的控制，可能需要严格的饮食计划，比如低碳水化合物...  \n",
       "2027  在癫痫大发作导致心脏停搏的紧急情况下，使用自动体外除颤器（AED）至关重要。它会根据内置算法...  \n",
       "2028  苯妥英钠是一种抗癫痫药，通过阻止神经细胞膜上的离子通道（如钙通道）过度激活，减少异常的神经脉...  \n",
       "2029  对于药物治疗无效的难治性癫痫，可能需要考虑神经刺激手术（如深脑刺激术）或立体定向放射治疗。这...  \n",
       "\n",
       "[1853 rows x 3 columns]"
      ],
      "text/html": [
       "<div>\n",
       "<style scoped>\n",
       "    .dataframe tbody tr th:only-of-type {\n",
       "        vertical-align: middle;\n",
       "    }\n",
       "\n",
       "    .dataframe tbody tr th {\n",
       "        vertical-align: top;\n",
       "    }\n",
       "\n",
       "    .dataframe thead th {\n",
       "        text-align: right;\n",
       "    }\n",
       "</style>\n",
       "<table border=\"1\" class=\"dataframe\">\n",
       "  <thead>\n",
       "    <tr style=\"text-align: right;\">\n",
       "      <th></th>\n",
       "      <th>Instruction</th>\n",
       "      <th>Input</th>\n",
       "      <th>Output</th>\n",
       "    </tr>\n",
       "  </thead>\n",
       "  <tbody>\n",
       "    <tr>\n",
       "      <th>0</th>\n",
       "      <td>What is the primary mechanism of action of thi...</td>\n",
       "      <td></td>\n",
       "      <td>The primary mechanism of action of this antiep...</td>\n",
       "    </tr>\n",
       "    <tr>\n",
       "      <th>1</th>\n",
       "      <td>How does a ketogenic diet affect seizure contr...</td>\n",
       "      <td></td>\n",
       "      <td>A ketogenic diet has been shown to be effectiv...</td>\n",
       "    </tr>\n",
       "    <tr>\n",
       "      <th>2</th>\n",
       "      <td>What are the common warning signs of a seizure...</td>\n",
       "      <td></td>\n",
       "      <td>Common warning signs of a seizure episode incl...</td>\n",
       "    </tr>\n",
       "    <tr>\n",
       "      <th>3</th>\n",
       "      <td>How can a patient with epilepsy use mindfulnes...</td>\n",
       "      <td></td>\n",
       "      <td>Patients with epilepsy can use mindfulness med...</td>\n",
       "    </tr>\n",
       "    <tr>\n",
       "      <th>4</th>\n",
       "      <td>How can a healthcare provider determine if a p...</td>\n",
       "      <td></td>\n",
       "      <td>A healthcare provider can determine effectiven...</td>\n",
       "    </tr>\n",
       "    <tr>\n",
       "      <th>...</th>\n",
       "      <td>...</td>\n",
       "      <td>...</td>\n",
       "      <td>...</td>\n",
       "    </tr>\n",
       "    <tr>\n",
       "      <th>2025</th>\n",
       "      <td>解释一下这种癫痫类型——全面性强直-阵挛发作（Tonic-Clonic）的临床表现。</td>\n",
       "      <td></td>\n",
       "      <td>全面性强直-阵挛发作（TCC）时，患者会经历突然的肌肉僵硬（强直期），然后全身剧烈抽动和意识...</td>\n",
       "    </tr>\n",
       "    <tr>\n",
       "      <th>2026</th>\n",
       "      <td>描述如何通过饮食调整来管理癫痫。</td>\n",
       "      <td></td>\n",
       "      <td>对于某些癫痫患者，如癫痫性饥饿症或酮症酸中毒的控制，可能需要严格的饮食计划，比如低碳水化合物...</td>\n",
       "    </tr>\n",
       "    <tr>\n",
       "      <th>2027</th>\n",
       "      <td>解释在紧急情况下如何使用这种急救设备——自动体外除颤器（AED）。</td>\n",
       "      <td></td>\n",
       "      <td>在癫痫大发作导致心脏停搏的紧急情况下，使用自动体外除颤器（AED）至关重要。它会根据内置算法...</td>\n",
       "    </tr>\n",
       "    <tr>\n",
       "      <th>2028</th>\n",
       "      <td>解释这种药物对抗惊厥的作用机制。</td>\n",
       "      <td>苯妥英钠</td>\n",
       "      <td>苯妥英钠是一种抗癫痫药，通过阻止神经细胞膜上的离子通道（如钙通道）过度激活，减少异常的神经脉...</td>\n",
       "    </tr>\n",
       "    <tr>\n",
       "      <th>2029</th>\n",
       "      <td>对于药物治疗无效的患者，推荐哪种非药物疗法？</td>\n",
       "      <td></td>\n",
       "      <td>对于药物治疗无效的难治性癫痫，可能需要考虑神经刺激手术（如深脑刺激术）或立体定向放射治疗。这...</td>\n",
       "    </tr>\n",
       "  </tbody>\n",
       "</table>\n",
       "<p>1853 rows × 3 columns</p>\n",
       "</div>"
      ]
     },
     "execution_count": 25,
     "metadata": {},
     "output_type": "execute_result"
    }
   ],
   "execution_count": 25
  },
  {
   "metadata": {
    "ExecuteTime": {
     "end_time": "2024-05-25T15:31:51.385737Z",
     "start_time": "2024-05-25T15:31:51.356737Z"
    }
   },
   "cell_type": "code",
   "source": "machine_data.to_json(data_path + \"/machine_generate_instructions_all.jsonl\",index=False,orient='records', lines=True)\n",
   "id": "2585514262100ead",
   "outputs": [],
   "execution_count": 34
  },
  {
   "metadata": {
    "ExecuteTime": {
     "end_time": "2024-05-25T15:21:49.691575Z",
     "start_time": "2024-05-25T15:21:49.669579Z"
    }
   },
   "cell_type": "code",
   "source": "machine_data_suffle = machine_data.sample(frac=1).reset_index(drop=True)",
   "id": "680a52012aefa4f8",
   "outputs": [],
   "execution_count": 27
  },
  {
   "metadata": {
    "ExecuteTime": {
     "end_time": "2024-05-25T15:24:28.011181Z",
     "start_time": "2024-05-25T15:24:27.993182Z"
    }
   },
   "cell_type": "code",
   "source": [
    "train_size = int(len(machine_data_suffle) * 0.8)\n",
    "machine_data_train = machine_data_suffle[:train_size]  # 训练集\n",
    "machine_data_valid = machine_data_suffle[train_size:] "
   ],
   "id": "62dfabff4b975044",
   "outputs": [],
   "execution_count": 29
  },
  {
   "metadata": {
    "ExecuteTime": {
     "end_time": "2024-05-25T15:31:56.270238Z",
     "start_time": "2024-05-25T15:31:56.238747Z"
    }
   },
   "cell_type": "code",
   "source": [
    "machine_data_train.to_json(data_path + \"/machine_generate_instructions_train.jsonl\",index=False,orient='records', lines=True)\n",
    "machine_data_valid.to_json(data_path + \"/machine_generate_instructions_valid.jsonl\",index=False,orient='records', lines=True)"
   ],
   "id": "3f42b2a6d08bc0b4",
   "outputs": [],
   "execution_count": 35
  },
  {
   "metadata": {},
   "cell_type": "code",
   "outputs": [],
   "execution_count": null,
   "source": "",
   "id": "2e7ba392e23eae46"
  }
 ],
 "metadata": {
  "kernelspec": {
   "display_name": "Python 3",
   "language": "python",
   "name": "python3"
  },
  "language_info": {
   "codemirror_mode": {
    "name": "ipython",
    "version": 2
   },
   "file_extension": ".py",
   "mimetype": "text/x-python",
   "name": "python",
   "nbconvert_exporter": "python",
   "pygments_lexer": "ipython2",
   "version": "2.7.6"
  }
 },
 "nbformat": 4,
 "nbformat_minor": 5
}

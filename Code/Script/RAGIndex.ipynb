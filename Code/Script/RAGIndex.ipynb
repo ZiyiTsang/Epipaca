{
 "cells": [
  {
   "metadata": {
    "ExecuteTime": {
     "end_time": "2024-05-27T19:08:13.306951Z",
     "start_time": "2024-05-27T19:08:02.893284Z"
    }
   },
   "cell_type": "code",
   "source": [
    "import os\n",
    "from llama_index.embeddings.huggingface import HuggingFaceEmbedding\n",
    "from llama_index.core import Settings, SimpleDirectoryReader, VectorStoreIndex\n",
    "from llama_index.core.retrievers import VectorIndexRetriever\n",
    "from llama_index.core.query_engine import RetrieverQueryEngine\n",
    "from llama_index.core.postprocessor import SimilarityPostprocessor\n",
    "from llama_index.core import StorageContext, load_index_from_storage\n",
    "\n",
    "cache_dir=\"E:\\Cache\\Hugging_Face\"\n",
    "\n",
    "project_path = os.path.abspath(os.path.relpath('../../../', os.getcwd()))\n",
    "data_path = os.path.join(project_path, 'FT4LLM/Data')\n",
    "knowledge_path=os.path.join(data_path, 'articles')\n",
    "prompt_path = os.path.join(data_path, 'prompt')"
   ],
   "id": "3b9097bb8e855709",
   "outputs": [],
   "execution_count": 1
  },
  {
   "metadata": {
    "ExecuteTime": {
     "end_time": "2024-05-27T19:09:42.381594Z",
     "start_time": "2024-05-27T19:08:13.310038Z"
    }
   },
   "cell_type": "code",
   "source": [
    "Settings.embed_model = HuggingFaceEmbedding(model_name=\"ekorman-strive/bge-large-en-v1.5\", cache_folder=cache_dir)\n",
    "Settings.llm = None\n",
    "Settings.chunk_size = 128\n",
    "Settings.chunk_overlap = 25\n",
    "documents = SimpleDirectoryReader(knowledge_path).load_data()\n",
    "index = VectorStoreIndex.from_documents(documents)\n",
    "index.storage_context.persist(persist_dir=cache_dir+'/vector_cache')"
   ],
   "id": "initial_id",
   "outputs": [
    {
     "name": "stderr",
     "output_type": "stream",
     "text": [
      "E:\\anaconda3\\envs\\DL\\lib\\site-packages\\huggingface_hub\\file_download.py:1132: FutureWarning: `resume_download` is deprecated and will be removed in version 1.0.0. Downloads always resume when possible. If you want to force a new download, use `force_download=True`.\n",
      "  warnings.warn(\n",
      "E:\\anaconda3\\envs\\DL\\lib\\site-packages\\huggingface_hub\\file_download.py:1132: FutureWarning: `resume_download` is deprecated and will be removed in version 1.0.0. Downloads always resume when possible. If you want to force a new download, use `force_download=True`.\n",
      "  warnings.warn(\n"
     ]
    },
    {
     "name": "stdout",
     "output_type": "stream",
     "text": [
      "LLM is explicitly disabled. Using MockLLM.\n"
     ]
    }
   ],
   "execution_count": 2
  },
  {
   "metadata": {
    "ExecuteTime": {
     "end_time": "2024-05-27T19:10:05.973407Z",
     "start_time": "2024-05-27T19:09:42.385591Z"
    }
   },
   "cell_type": "code",
   "source": [
    "\n",
    "storage_context = StorageContext.from_defaults(persist_dir=cache_dir + '/vector_cache')\n",
    "index = load_index_from_storage(storage_context)\n",
    "retriever = VectorIndexRetriever(\n",
    "    index=index,\n",
    "    similarity_top_k=3,\n",
    ")\n",
    "query_engine = RetrieverQueryEngine(\n",
    "    retriever=retriever,\n",
    "    node_postprocessors=[SimilarityPostprocessor(similarity_cutoff=0.5)],\n",
    ")\n"
   ],
   "id": "ebd464b50955e7a2",
   "outputs": [],
   "execution_count": 3
  },
  {
   "metadata": {},
   "cell_type": "code",
   "outputs": [],
   "execution_count": null,
   "source": "",
   "id": "ec397dff75574df0"
  }
 ],
 "metadata": {
  "kernelspec": {
   "display_name": "Python 3",
   "language": "python",
   "name": "python3"
  },
  "language_info": {
   "codemirror_mode": {
    "name": "ipython",
    "version": 2
   },
   "file_extension": ".py",
   "mimetype": "text/x-python",
   "name": "python",
   "nbconvert_exporter": "python",
   "pygments_lexer": "ipython2",
   "version": "2.7.6"
  }
 },
 "nbformat": 4,
 "nbformat_minor": 5
}
